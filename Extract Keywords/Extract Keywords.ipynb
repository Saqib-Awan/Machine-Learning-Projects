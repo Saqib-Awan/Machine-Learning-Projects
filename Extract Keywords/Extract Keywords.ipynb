{
 "cells": [
  {
   "cell_type": "markdown",
   "id": "81aed818",
   "metadata": {},
   "source": [
    "### Import yake and Create a YAKE keyword extractor"
   ]
  },
  {
   "cell_type": "code",
   "execution_count": 3,
   "id": "210d89bb",
   "metadata": {},
   "outputs": [],
   "source": [
    "# Install YAKE library if not already installed\n",
    "# !pip install yake\n",
    "\n",
    "import yake\n",
    "\n",
    "keyword_extractor = yake.KeywordExtractor()"
   ]
  },
  {
   "cell_type": "markdown",
   "id": "36129653",
   "metadata": {},
   "source": [
    "### Function to extract keywords from user input"
   ]
  },
  {
   "cell_type": "code",
   "execution_count": 4,
   "id": "7e0b31a5",
   "metadata": {},
   "outputs": [
    {
     "name": "stdout",
     "output_type": "stream",
     "text": [
      "Please enter the text for keyword extraction:  I'm a programmer from Pakistan, here to help you learn Data Science, Machine Learning, Python, and Deep Learning at no cost. Join me on this journey as we dive into coding, machine learning, and artificial intelligence together. I hope you'll gain valuable knowledge and skills along the way!\n",
      "\n",
      "Extracted Keywords and Scores:\n",
      "learn Data Science: 0.001377845548074135\n",
      "Data Science: 0.006210006201125347\n",
      "programmer from Pakistan: 0.014848503738408847\n",
      "Machine Learning: 0.01602428821151535\n",
      "learn Data: 0.019858517164675484\n",
      "Deep Learning: 0.022243071078165345\n",
      "Python: 0.045905641905885614\n",
      "Machine: 0.0646699375495802\n",
      "Pakistan: 0.06809872719156841\n",
      "Science: 0.06809872719156841\n",
      "Learning: 0.08003038610314997\n",
      "Data: 0.09062841971343986\n",
      "Deep: 0.09062841971343986\n",
      "cost: 0.14903359733596075\n",
      "programmer: 0.21485352441293123\n",
      "learn: 0.21485352441293123\n",
      "dive into coding: 0.225932450916347\n",
      "artificial intelligence: 0.3113815171984746\n",
      "Join: 0.3782075431889228\n",
      "coding: 0.3782075431889228\n"
     ]
    }
   ],
   "source": [
    "def extract_keywords_from_user_input():\n",
    "    # Take input from the user\n",
    "    user_input = input(\"Please enter the text for keyword extraction: \")\n",
    "    \n",
    "    # Extract keywords from the input text\n",
    "    keywords = keyword_extractor.extract_keywords(user_input)\n",
    "    \n",
    "    # Print the keywords and their scores\n",
    "    print(\"\\nExtracted Keywords and Scores:\")\n",
    "    for keyword, score in keywords:\n",
    "        print(f\"{keyword}: {score}\")\n",
    "\n",
    "# Run the function\n",
    "extract_keywords_from_user_input()"
   ]
  }
 ],
 "metadata": {
  "kernelspec": {
   "display_name": "Python 3 (ipykernel)",
   "language": "python",
   "name": "python3"
  },
  "language_info": {
   "codemirror_mode": {
    "name": "ipython",
    "version": 3
   },
   "file_extension": ".py",
   "mimetype": "text/x-python",
   "name": "python",
   "nbconvert_exporter": "python",
   "pygments_lexer": "ipython3",
   "version": "3.9.13"
  }
 },
 "nbformat": 4,
 "nbformat_minor": 5
}
